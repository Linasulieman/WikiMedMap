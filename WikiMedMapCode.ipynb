{
  "nbformat": 4,
  "nbformat_minor": 0,
  "metadata": {
    "colab": {
      "name": "WikiMap.ipynb",
      "version": "0.3.2",
      "provenance": [],
      "collapsed_sections": []
    },
    "kernelspec": {
      "name": "python3",
      "display_name": "Python 3"
    }
  },
  "cells": [
    {
      "cell_type": "code",
      "metadata": {
        "id": "j7x-iXqJ-8C3",
        "colab_type": "code",
        "outputId": "d900223b-47c0-4b9d-bbac-271ca22685ba",
        "colab": {
          "base_uri": "https://localhost:8080/",
          "height": 255
        }
      },
      "source": [
        "!pip install wikipedia"
      ],
      "execution_count": 0,
      "outputs": [
        {
          "output_type": "stream",
          "text": [
            "Collecting wikipedia\n",
            "  Downloading https://files.pythonhosted.org/packages/67/35/25e68fbc99e672127cc6fbb14b8ec1ba3dfef035bf1e4c90f78f24a80b7d/wikipedia-1.4.0.tar.gz\n",
            "Requirement already satisfied: beautifulsoup4 in /usr/local/lib/python3.6/dist-packages (from wikipedia) (4.6.3)\n",
            "Requirement already satisfied: requests<3.0.0,>=2.0.0 in /usr/local/lib/python3.6/dist-packages (from wikipedia) (2.21.0)\n",
            "Requirement already satisfied: chardet<3.1.0,>=3.0.2 in /usr/local/lib/python3.6/dist-packages (from requests<3.0.0,>=2.0.0->wikipedia) (3.0.4)\n",
            "Requirement already satisfied: urllib3<1.25,>=1.21.1 in /usr/local/lib/python3.6/dist-packages (from requests<3.0.0,>=2.0.0->wikipedia) (1.24.2)\n",
            "Requirement already satisfied: certifi>=2017.4.17 in /usr/local/lib/python3.6/dist-packages (from requests<3.0.0,>=2.0.0->wikipedia) (2019.3.9)\n",
            "Requirement already satisfied: idna<2.9,>=2.5 in /usr/local/lib/python3.6/dist-packages (from requests<3.0.0,>=2.0.0->wikipedia) (2.8)\n",
            "Building wheels for collected packages: wikipedia\n",
            "  Building wheel for wikipedia (setup.py) ... \u001b[?25l\u001b[?25hdone\n",
            "  Stored in directory: /root/.cache/pip/wheels/87/2a/18/4e471fd96d12114d16fe4a446d00c3b38fb9efcb744bd31f4a\n",
            "Successfully built wikipedia\n",
            "Installing collected packages: wikipedia\n",
            "Successfully installed wikipedia-1.4.0\n"
          ],
          "name": "stdout"
        }
      ]
    },
    {
      "cell_type": "code",
      "metadata": {
        "id": "gUwvTBof-zB5",
        "colab_type": "code",
        "colab": {}
      },
      "source": [
        "import wikipedia\n",
        "import pandas as pd"
      ],
      "execution_count": 0,
      "outputs": []
    },
    {
      "cell_type": "code",
      "metadata": {
        "id": "fuYZwfhXCFYu",
        "colab_type": "code",
        "colab": {}
      },
      "source": [
        "wikipedia.set_lang(\"en\")"
      ],
      "execution_count": 0,
      "outputs": []
    },
    {
      "cell_type": "code",
      "metadata": {
        "id": "3LJ8w8xJ-0dM",
        "colab_type": "code",
        "colab": {}
      },
      "source": [
        "disease_str=\"rheumatoid arthritis\"\n",
        "diseasePage=wikipedia.page(disease_str)\n",
        "page_external_links=diseasePage.references"
      ],
      "execution_count": 0,
      "outputs": []
    },
    {
      "cell_type": "code",
      "metadata": {
        "id": "WKqhlrF__gAs",
        "colab_type": "code",
        "colab": {}
      },
      "source": [
        "concepts_external_links={'ICD-9' : 'http://www.icd9data.com/getICD9Code.ashx?icd9=',\n",
        "'ICD-10' : 'https://icd.who.int/browse10/2019/en#/',\n",
        "'CancerCode' : 'https://progenetix.org/subsets/?term_id=icdom:',\n",
        "'MESH' : 'https://www.nlm.nih.gov/cgi/mesh/2015/MB_cgi?field=uid&term=',\n",
        "'MedlinePlus' : 'https://www.nlm.nih.gov/medlineplus/ency/article/',\n",
        "'OMIM' : 'https://omim.org/entry/',\n",
        "'Orphanet' : 'http://www.orpha.net/consor/cgi-bin/OC_Exp.php?lng=en&Expert=',\n",
        "'DiseaseDB' : 'http://www.diseasesdatabase.com/',\n",
        "'ICDO':'https://progenetix.org/subsets/?term_id=icdom:'}\n",
        "\n",
        "\n",
        "page_external_links=pd.DataFrame(page_external_links)\n",
        "page_external_links.columns=[\"links\"]"
      ],
      "execution_count": 0,
      "outputs": []
    },
    {
      "cell_type": "code",
      "metadata": {
        "id": "VYlbrZFw_kKo",
        "colab_type": "code",
        "outputId": "1910c372-7e44-4748-b35e-df34a0da8f60",
        "colab": {
          "base_uri": "https://localhost:8080/",
          "height": 340
        }
      },
      "source": [
        "mapped_codes_list=[]\n",
        "for key in concepts_external_links:\n",
        "    \n",
        "    \n",
        "    code_page_link=page_external_links.loc[page_external_links[\"links\"].apply(lambda x: concepts_external_links[key] in x)][\"links\"]\n",
        "\n",
        "    if code_page_link.shape[0] >0:\n",
        "        \n",
        "        for link_i in range(code_page_link.shape[0]):\n",
        "            mapped_code_value=code_page_link.values[link_i].replace( concepts_external_links[key] ,\"\")\n",
        "            mapped_codes_list.append([key,mapped_code_value.replace(\".htm\",\"\"),code_page_link.values[link_i],diseasePage.title, diseasePage.pageid])\n",
        "\n",
        "mapped_codes_df=pd.DataFrame(mapped_codes_list)\n",
        "mapped_codes_df.columns=[\"Terminology\",\"Code\",\"CodeLink\",\"title\",\"page_id\"]\n",
        "print (mapped_codes_df)"
      ],
      "execution_count": 0,
      "outputs": [
        {
          "output_type": "stream",
          "text": [
            "   Terminology      Code                                           CodeLink  \\\n",
            "0        ICD-9       714  http://www.icd9data.com/getICD9Code.ashx?icd9=714   \n",
            "1       ICD-10       M05  http://apps.who.int/classifications/icd10/brow...   \n",
            "2       ICD-10       M06  http://apps.who.int/classifications/icd10/brow...   \n",
            "3       ICD-10       M45  http://apps.who.int/classifications/icd10/brow...   \n",
            "4         MESH   D001172  https://www.nlm.nih.gov/cgi/mesh/2015/MB_cgi?f...   \n",
            "5  MedlinePlus    000431  https://www.nlm.nih.gov/medlineplus/ency/artic...   \n",
            "6         OMIM    180300                      https://omim.org/entry/180300   \n",
            "7    DiseaseDB  ddb11506       http://www.diseasesdatabase.com/ddb11506.htm   \n",
            "\n",
            "                  title page_id  \n",
            "0  Rheumatoid arthritis   25875  \n",
            "1  Rheumatoid arthritis   25875  \n",
            "2  Rheumatoid arthritis   25875  \n",
            "3  Rheumatoid arthritis   25875  \n",
            "4  Rheumatoid arthritis   25875  \n",
            "5  Rheumatoid arthritis   25875  \n",
            "6  Rheumatoid arthritis   25875  \n",
            "7  Rheumatoid arthritis   25875  \n"
          ],
          "name": "stdout"
        }
      ]
    },
    {
      "cell_type": "code",
      "metadata": {
        "id": "Tc5UNpUg2l8W",
        "colab_type": "code",
        "outputId": "e9aa3405-8bb5-4b22-d054-0abee0ca6b63",
        "colab": {
          "base_uri": "https://localhost:8080/",
          "height": 187
        }
      },
      "source": [
        "mapped_codes_list"
      ],
      "execution_count": 0,
      "outputs": [
        {
          "output_type": "execute_result",
          "data": {
            "text/plain": [
              "[['ICD-9',\n",
              "  '577.8',\n",
              "  'http://www.icd9data.com/getICD9Code.ashx?icd9=577.8',\n",
              "  'Exocrine pancreatic insufficiency',\n",
              "  '3952371'],\n",
              " ['MESH',\n",
              "  'D010188',\n",
              "  'https://www.nlm.nih.gov/cgi/mesh/2015/MB_cgi?field=uid&term=D010188',\n",
              "  'Exocrine pancreatic insufficiency',\n",
              "  '3952371']]"
            ]
          },
          "metadata": {
            "tags": []
          },
          "execution_count": 8
        }
      ]
    },
    {
      "cell_type": "code",
      "metadata": {
        "id": "mHzrENud_x4x",
        "colab_type": "code",
        "outputId": "0d5ccf73-e814-439f-fb28-0ef2dbfd5958",
        "colab": {
          "base_uri": "https://localhost:8080/",
          "height": 111
        }
      },
      "source": [
        "mapped_codes_df"
      ],
      "execution_count": 0,
      "outputs": [
        {
          "output_type": "execute_result",
          "data": {
            "text/html": [
              "<div>\n",
              "<style scoped>\n",
              "    .dataframe tbody tr th:only-of-type {\n",
              "        vertical-align: middle;\n",
              "    }\n",
              "\n",
              "    .dataframe tbody tr th {\n",
              "        vertical-align: top;\n",
              "    }\n",
              "\n",
              "    .dataframe thead th {\n",
              "        text-align: right;\n",
              "    }\n",
              "</style>\n",
              "<table border=\"1\" class=\"dataframe\">\n",
              "  <thead>\n",
              "    <tr style=\"text-align: right;\">\n",
              "      <th></th>\n",
              "      <th>Terminology</th>\n",
              "      <th>Code</th>\n",
              "      <th>CodeLink</th>\n",
              "      <th>title</th>\n",
              "      <th>page_id</th>\n",
              "    </tr>\n",
              "  </thead>\n",
              "  <tbody>\n",
              "    <tr>\n",
              "      <th>0</th>\n",
              "      <td>ICD-9</td>\n",
              "      <td>577.8</td>\n",
              "      <td>http://www.icd9data.com/getICD9Code.ashx?icd9=...</td>\n",
              "      <td>Exocrine pancreatic insufficiency</td>\n",
              "      <td>3952371</td>\n",
              "    </tr>\n",
              "    <tr>\n",
              "      <th>1</th>\n",
              "      <td>MESH</td>\n",
              "      <td>D010188</td>\n",
              "      <td>https://www.nlm.nih.gov/cgi/mesh/2015/MB_cgi?f...</td>\n",
              "      <td>Exocrine pancreatic insufficiency</td>\n",
              "      <td>3952371</td>\n",
              "    </tr>\n",
              "  </tbody>\n",
              "</table>\n",
              "</div>"
            ],
            "text/plain": [
              "  Terminology     Code                                           CodeLink  \\\n",
              "0       ICD-9    577.8  http://www.icd9data.com/getICD9Code.ashx?icd9=...   \n",
              "1        MESH  D010188  https://www.nlm.nih.gov/cgi/mesh/2015/MB_cgi?f...   \n",
              "\n",
              "                               title  page_id  \n",
              "0  Exocrine pancreatic insufficiency  3952371  \n",
              "1  Exocrine pancreatic insufficiency  3952371  "
            ]
          },
          "metadata": {
            "tags": []
          },
          "execution_count": 7
        }
      ]
    },
    {
      "cell_type": "code",
      "metadata": {
        "id": "fFNeX0fwAu69",
        "colab_type": "code",
        "outputId": "8f85151d-49ba-4de4-86fd-68845699792b",
        "colab": {
          "base_uri": "https://localhost:8080/",
          "height": 54
        }
      },
      "source": [
        "chinese_lang_abr=\"zh\"\n",
        "wikipedia.set_lang(\"zh\")\n",
        "chinese_page=wikipedia.page(\"Exocrine pancreatic insufficiency\")\n",
        "chinese_page.summary"
      ],
      "execution_count": 0,
      "outputs": [
        {
          "output_type": "execute_result",
          "data": {
            "text/plain": [
              "'胰脂肪酶（Pancrelipases），特別是它的緩釋劑型(例如： Creon,  Pancreaze,  Pertzye,  Ultresa,  Zenpep) 是豬源性胰澱粉酶的商用混合物(作用於澱粉水解酶)，胰脂肪酶和胰凝乳蛋白酶（一種蛋白酶），其治療目的是為了給那些沒有足夠胰腺酶的嬰兒、小孩、成人在食物消化上的改善，因為它們會影響胰腺，如囊性纖維化、慢性胰腺炎或在胰腺和腸之間的通道堵塞等作用。這產品中的三個組成部分是類似那些通常由人類胰腺產生的消化酶。長期的胰腺酶替代產品（PERPs），有一些甚至使用了一個多世紀，2006年美國食品藥品管理局要求製藥公司提交豬源性PERP產品的保密合約；Creon®（AbbVie公司）是最早的美國食品藥品管理局指令後，批准商業PERP產品的公司，在2009年正式在市場上市。胰脂肪酶通常是用在治療外分泌胰腺功能和一些不消化上的疾病，伴隨囊性纖維化，胰臟切除手術併發症，或慢性胰腺炎的第一個方法。製劑通常填充在硬質膠囊裡以耐胃酸顆粒。胰脂肪酶類似於胰液，但具有較多的脂肪酶成分。\\n美國食品藥品管理局具體要求製造商提交風險評估、REMS和用藥指南，以確保病人充分了解有關於高劑量的豬源性PERP產品管理相關的潛在風險，特別是關於「從豬身上傳染病毒性疾病到患者的理論風險」，病人對藥的依賴性（用藥量）應減少到藥品標籤之劑量用量。'"
            ]
          },
          "metadata": {
            "tags": []
          },
          "execution_count": 13
        }
      ]
    },
    {
      "cell_type": "code",
      "metadata": {
        "id": "1iC7QIyVwxPr",
        "colab_type": "code",
        "outputId": "8e0edf0d-d567-4303-b1a7-291c87059d55",
        "colab": {
          "base_uri": "https://localhost:8080/",
          "height": 34
        }
      },
      "source": [
        "from platform import python_version\n",
        "print(python_version())"
      ],
      "execution_count": 0,
      "outputs": [
        {
          "output_type": "stream",
          "text": [
            "3.6.7\n"
          ],
          "name": "stdout"
        }
      ]
    },
    {
      "cell_type": "code",
      "metadata": {
        "id": "TSfGPn8kxIBO",
        "colab_type": "code",
        "outputId": "b8fa2a49-9029-4139-e69c-c58d50f81703",
        "colab": {
          "base_uri": "https://localhost:8080/",
          "height": 164
        }
      },
      "source": [
        "! --version"
      ],
      "execution_count": 0,
      "outputs": [
        {
          "output_type": "error",
          "ename": "NameError",
          "evalue": "ignored",
          "traceback": [
            "\u001b[0;31m---------------------------------------------------------------------------\u001b[0m",
            "\u001b[0;31mNameError\u001b[0m                                 Traceback (most recent call last)",
            "\u001b[0;32m<ipython-input-14-883a6212287d>\u001b[0m in \u001b[0;36m<module>\u001b[0;34m()\u001b[0m\n\u001b[0;32m----> 1\u001b[0;31m \u001b[0mipython\u001b[0m \u001b[0;34m-\u001b[0m\u001b[0;34m-\u001b[0m\u001b[0mversion\u001b[0m\u001b[0;34m\u001b[0m\u001b[0;34m\u001b[0m\u001b[0m\n\u001b[0m",
            "\u001b[0;31mNameError\u001b[0m: name 'ipython' is not defined"
          ]
        }
      ]
    },
    {
      "cell_type": "markdown",
      "metadata": {
        "id": "nvfnXat7Mz8m",
        "colab_type": "text"
      },
      "source": [
        "# 04.03.19\n",
        "* (Patrick) Testing code"
      ]
    },
    {
      "cell_type": "code",
      "metadata": {
        "id": "bZ2vcgOIMo7Z",
        "colab_type": "code",
        "outputId": "f5f2293d-e648-439f-8e33-1584d2fe313e",
        "colab": {
          "base_uri": "https://localhost:8080/",
          "height": 555
        }
      },
      "source": [
        "disease_str=\"self-harm\"\n",
        "diseasePage=wikipedia.page(disease_str)\n",
        "page_external_links=diseasePage.references"
      ],
      "execution_count": 0,
      "outputs": [
        {
          "output_type": "error",
          "ename": "PageError",
          "evalue": "ignored",
          "traceback": [
            "\u001b[0;31m---------------------------------------------------------------------------\u001b[0m",
            "\u001b[0;31mPageError\u001b[0m                                 Traceback (most recent call last)",
            "\u001b[0;32m<ipython-input-12-4267ec190438>\u001b[0m in \u001b[0;36m<module>\u001b[0;34m()\u001b[0m\n\u001b[1;32m      1\u001b[0m \u001b[0mdisease_str\u001b[0m\u001b[0;34m=\u001b[0m\u001b[0;34m\"self-harm\"\u001b[0m\u001b[0;34m\u001b[0m\u001b[0;34m\u001b[0m\u001b[0m\n\u001b[0;32m----> 2\u001b[0;31m \u001b[0mdiseasePage\u001b[0m\u001b[0;34m=\u001b[0m\u001b[0mwikipedia\u001b[0m\u001b[0;34m.\u001b[0m\u001b[0mpage\u001b[0m\u001b[0;34m(\u001b[0m\u001b[0mdisease_str\u001b[0m\u001b[0;34m)\u001b[0m\u001b[0;34m\u001b[0m\u001b[0;34m\u001b[0m\u001b[0m\n\u001b[0m\u001b[1;32m      3\u001b[0m \u001b[0mpage_external_links\u001b[0m\u001b[0;34m=\u001b[0m\u001b[0mdiseasePage\u001b[0m\u001b[0;34m.\u001b[0m\u001b[0mreferences\u001b[0m\u001b[0;34m\u001b[0m\u001b[0;34m\u001b[0m\u001b[0m\n",
            "\u001b[0;32m/usr/local/lib/python3.6/dist-packages/wikipedia/wikipedia.py\u001b[0m in \u001b[0;36mpage\u001b[0;34m(title, pageid, auto_suggest, redirect, preload)\u001b[0m\n\u001b[1;32m    274\u001b[0m         \u001b[0;31m# if there is no suggestion or search results, the page doesn't exist\u001b[0m\u001b[0;34m\u001b[0m\u001b[0;34m\u001b[0m\u001b[0;34m\u001b[0m\u001b[0m\n\u001b[1;32m    275\u001b[0m         \u001b[0;32mraise\u001b[0m \u001b[0mPageError\u001b[0m\u001b[0;34m(\u001b[0m\u001b[0mtitle\u001b[0m\u001b[0;34m)\u001b[0m\u001b[0;34m\u001b[0m\u001b[0;34m\u001b[0m\u001b[0m\n\u001b[0;32m--> 276\u001b[0;31m     \u001b[0;32mreturn\u001b[0m \u001b[0mWikipediaPage\u001b[0m\u001b[0;34m(\u001b[0m\u001b[0mtitle\u001b[0m\u001b[0;34m,\u001b[0m \u001b[0mredirect\u001b[0m\u001b[0;34m=\u001b[0m\u001b[0mredirect\u001b[0m\u001b[0;34m,\u001b[0m \u001b[0mpreload\u001b[0m\u001b[0;34m=\u001b[0m\u001b[0mpreload\u001b[0m\u001b[0;34m)\u001b[0m\u001b[0;34m\u001b[0m\u001b[0;34m\u001b[0m\u001b[0m\n\u001b[0m\u001b[1;32m    277\u001b[0m   \u001b[0;32melif\u001b[0m \u001b[0mpageid\u001b[0m \u001b[0;32mis\u001b[0m \u001b[0;32mnot\u001b[0m \u001b[0;32mNone\u001b[0m\u001b[0;34m:\u001b[0m\u001b[0;34m\u001b[0m\u001b[0;34m\u001b[0m\u001b[0m\n\u001b[1;32m    278\u001b[0m     \u001b[0;32mreturn\u001b[0m \u001b[0mWikipediaPage\u001b[0m\u001b[0;34m(\u001b[0m\u001b[0mpageid\u001b[0m\u001b[0;34m=\u001b[0m\u001b[0mpageid\u001b[0m\u001b[0;34m,\u001b[0m \u001b[0mpreload\u001b[0m\u001b[0;34m=\u001b[0m\u001b[0mpreload\u001b[0m\u001b[0;34m)\u001b[0m\u001b[0;34m\u001b[0m\u001b[0;34m\u001b[0m\u001b[0m\n",
            "\u001b[0;32m/usr/local/lib/python3.6/dist-packages/wikipedia/wikipedia.py\u001b[0m in \u001b[0;36m__init__\u001b[0;34m(self, title, pageid, redirect, preload, original_title)\u001b[0m\n\u001b[1;32m    297\u001b[0m       \u001b[0;32mraise\u001b[0m \u001b[0mValueError\u001b[0m\u001b[0;34m(\u001b[0m\u001b[0;34m\"Either a title or a pageid must be specified\"\u001b[0m\u001b[0;34m)\u001b[0m\u001b[0;34m\u001b[0m\u001b[0;34m\u001b[0m\u001b[0m\n\u001b[1;32m    298\u001b[0m \u001b[0;34m\u001b[0m\u001b[0m\n\u001b[0;32m--> 299\u001b[0;31m     \u001b[0mself\u001b[0m\u001b[0;34m.\u001b[0m\u001b[0m__load\u001b[0m\u001b[0;34m(\u001b[0m\u001b[0mredirect\u001b[0m\u001b[0;34m=\u001b[0m\u001b[0mredirect\u001b[0m\u001b[0;34m,\u001b[0m \u001b[0mpreload\u001b[0m\u001b[0;34m=\u001b[0m\u001b[0mpreload\u001b[0m\u001b[0;34m)\u001b[0m\u001b[0;34m\u001b[0m\u001b[0;34m\u001b[0m\u001b[0m\n\u001b[0m\u001b[1;32m    300\u001b[0m \u001b[0;34m\u001b[0m\u001b[0m\n\u001b[1;32m    301\u001b[0m     \u001b[0;32mif\u001b[0m \u001b[0mpreload\u001b[0m\u001b[0;34m:\u001b[0m\u001b[0;34m\u001b[0m\u001b[0;34m\u001b[0m\u001b[0m\n",
            "\u001b[0;32m/usr/local/lib/python3.6/dist-packages/wikipedia/wikipedia.py\u001b[0m in \u001b[0;36m__load\u001b[0;34m(self, redirect, preload)\u001b[0m\n\u001b[1;32m    343\u001b[0m     \u001b[0;32mif\u001b[0m \u001b[0;34m'missing'\u001b[0m \u001b[0;32min\u001b[0m \u001b[0mpage\u001b[0m\u001b[0;34m:\u001b[0m\u001b[0;34m\u001b[0m\u001b[0;34m\u001b[0m\u001b[0m\n\u001b[1;32m    344\u001b[0m       \u001b[0;32mif\u001b[0m \u001b[0mhasattr\u001b[0m\u001b[0;34m(\u001b[0m\u001b[0mself\u001b[0m\u001b[0;34m,\u001b[0m \u001b[0;34m'title'\u001b[0m\u001b[0;34m)\u001b[0m\u001b[0;34m:\u001b[0m\u001b[0;34m\u001b[0m\u001b[0;34m\u001b[0m\u001b[0m\n\u001b[0;32m--> 345\u001b[0;31m         \u001b[0;32mraise\u001b[0m \u001b[0mPageError\u001b[0m\u001b[0;34m(\u001b[0m\u001b[0mself\u001b[0m\u001b[0;34m.\u001b[0m\u001b[0mtitle\u001b[0m\u001b[0;34m)\u001b[0m\u001b[0;34m\u001b[0m\u001b[0;34m\u001b[0m\u001b[0m\n\u001b[0m\u001b[1;32m    346\u001b[0m       \u001b[0;32melse\u001b[0m\u001b[0;34m:\u001b[0m\u001b[0;34m\u001b[0m\u001b[0;34m\u001b[0m\u001b[0m\n\u001b[1;32m    347\u001b[0m         \u001b[0;32mraise\u001b[0m \u001b[0mPageError\u001b[0m\u001b[0;34m(\u001b[0m\u001b[0mpageid\u001b[0m\u001b[0;34m=\u001b[0m\u001b[0mself\u001b[0m\u001b[0;34m.\u001b[0m\u001b[0mpageid\u001b[0m\u001b[0;34m)\u001b[0m\u001b[0;34m\u001b[0m\u001b[0;34m\u001b[0m\u001b[0m\n",
            "\u001b[0;31mPageError\u001b[0m: Page id \"seed hart\" does not match any pages. Try another id!"
          ]
        }
      ]
    },
    {
      "cell_type": "code",
      "metadata": {
        "id": "6r-T2vAEMsrt",
        "colab_type": "code",
        "outputId": "b3f5bc65-3574-41a3-abf7-308d5d223258",
        "colab": {
          "base_uri": "https://localhost:8080/",
          "height": 34
        }
      },
      "source": [
        "diseasePage"
      ],
      "execution_count": 0,
      "outputs": [
        {
          "output_type": "execute_result",
          "data": {
            "text/plain": [
              "<WikipediaPage 'Colorectal cancer'>"
            ]
          },
          "metadata": {
            "tags": []
          },
          "execution_count": 5
        }
      ]
    },
    {
      "cell_type": "code",
      "metadata": {
        "id": "7AEESB6pNCD8",
        "colab_type": "code",
        "colab": {}
      },
      "source": [
        "concepts_external_links={'ICD-9' : 'http://www.icd9data.com/getICD9Code.ashx?icd9=',\n",
        "'ICD-10' : 'https://icd.who.int/browse10/2019/en#',\n",
        "'CancerCode' : 'https://progenetix.org/subsets/?term_id=icdom:',\n",
        "'MESH' : 'https://www.nlm.nih.gov/cgi/mesh/2015/MB_cgi?field=uid&term=',\n",
        "'MedlinePlus' : 'https://www.nlm.nih.gov/medlineplus/ency/article/',\n",
        "'OMIM' : 'https://omim.org/entry/',\n",
        "'Orphanet' : 'http://www.orpha.net/consor/cgi-bin/OC_Exp.php?lng=en&Expert=',\n",
        "'DiseaseDB' : 'http://www.diseasesdatabase.com/',\n",
        "'ICDO':'https://progenetix.org/subsets/?term_id=icdom:'}\n",
        "\n",
        "\n",
        "page_external_links=pd.DataFrame(page_external_links)\n",
        "page_external_links.columns=[\"links\"]"
      ],
      "execution_count": 0,
      "outputs": []
    },
    {
      "cell_type": "code",
      "metadata": {
        "id": "u_8f9qBmNCiq",
        "colab_type": "code",
        "outputId": "933edd17-9e5b-40ac-aacc-3d047cf0657b",
        "colab": {
          "base_uri": "https://localhost:8080/",
          "height": 408
        }
      },
      "source": [
        "\n",
        "mapped_codes_list=[]\n",
        "for key in concepts_external_links:\n",
        "    \n",
        "    \n",
        "    code_page_link=page_external_links.loc[page_external_links[\"links\"].apply(lambda x: concepts_external_links[key] in x)][\"links\"]\n",
        "\n",
        "    if code_page_link.shape[0] >0:\n",
        "        \n",
        "        for link_i in range(code_page_link.shape[0]):\n",
        "            mapped_code_value=code_page_link.values[link_i].replace( concepts_external_links[key] ,\"\")\n",
        "            mapped_codes_list.append([key,mapped_code_value.replace(\".htm\",\"\"),code_page_link.values[link_i],diseasePage.title, diseasePage.pageid])\n",
        "\n",
        "mapped_codes_df=pd.DataFrame(mapped_codes_list)\n",
        "mapped_codes_df.columns=[\"Terminology\",\"Code\",\"CodeLink\",\"title\",\"page_id\"]\n",
        "print (mapped_codes_df)"
      ],
      "execution_count": 0,
      "outputs": [
        {
          "output_type": "stream",
          "text": [
            "   Terminology     Code                                           CodeLink  \\\n",
            "0        ICD-9    153.0  http://www.icd9data.com/getICD9Code.ashx?icd9=...   \n",
            "1        ICD-9    154.1  http://www.icd9data.com/getICD9Code.ashx?icd9=...   \n",
            "2       ICD-10      C18  http://apps.who.int/classifications/icd10/brow...   \n",
            "3       ICD-10      C20  http://apps.who.int/classifications/icd10/brow...   \n",
            "4       ICD-10      C19  http://apps.who.int/classifications/icd10/brow...   \n",
            "5   CancerCode   8140_3  https://progenetix.org/subsets/?term_id=icdom:...   \n",
            "6  MedlinePlus   000262  https://www.nlm.nih.gov/medlineplus/ency/artic...   \n",
            "7         OMIM   114500                      https://omim.org/entry/114500   \n",
            "8    DiseaseDB  ddb2975        http://www.diseasesdatabase.com/ddb2975.htm   \n",
            "9         ICDO   8140_3  https://progenetix.org/subsets/?term_id=icdom:...   \n",
            "\n",
            "               title page_id  \n",
            "0  Colorectal cancer  206979  \n",
            "1  Colorectal cancer  206979  \n",
            "2  Colorectal cancer  206979  \n",
            "3  Colorectal cancer  206979  \n",
            "4  Colorectal cancer  206979  \n",
            "5  Colorectal cancer  206979  \n",
            "6  Colorectal cancer  206979  \n",
            "7  Colorectal cancer  206979  \n",
            "8  Colorectal cancer  206979  \n",
            "9  Colorectal cancer  206979  \n"
          ],
          "name": "stdout"
        }
      ]
    },
    {
      "cell_type": "code",
      "metadata": {
        "id": "ZmxBVgaJMv1W",
        "colab_type": "code",
        "outputId": "cc038e8a-3dc7-442a-911e-62741df28be8",
        "colab": {
          "base_uri": "https://localhost:8080/",
          "height": 54
        }
      },
      "source": [
        "chinese_lang_abr=\"zh\"\n",
        "wikipedia.set_lang(\"zh\")\n",
        "chinese_page=wikipedia.page(\"Colorectal cancer\")\n",
        "chinese_page.summary"
      ],
      "execution_count": 0,
      "outputs": [
        {
          "output_type": "execute_result",
          "data": {
            "text/plain": [
              "'大腸直腸癌（英语：Colorectal cancer），又稱為大腸癌、直腸癌、大肠直肠癌、结肠直肠癌、或腸癌，為源自結腸或直腸（為大腸的一部份）的癌症。因為細胞不正常的生長，可能侵犯或轉移至身體其他部。症狀可能包括糞便中帶血、排便習慣改變、體重減輕、以及疲倦感。\\n大部份的大腸直腸癌起因為生活習慣及老化，少部分則因為遺傳疾病。風險因子包括飲食、肥胖、抽煙、運動量不足。增加罹癌風險的飲食包含紅肉或加工肉品、以及酒精。其他風險因子包含發炎性腸道疾病（分為克隆氏症和潰瘍性大腸炎）。某些可能造成大腸直腸癌的遺傳疾病為家族性結直腸瘜肉綜合症和遺傳性非瘜肉症結直腸癌，然而這些遺傳性疾病占大腸直腸癌所有病例中的比例不到5%。大腸直腸癌通常源自良性腫瘤，然而隨時間進展變成惡性腫瘤。\\n腸癌的診斷可藉由乙狀結腸鏡或大腸鏡檢查切片。接著由影像檢查查看是否轉移。進行大腸直腸癌的篩檢可有效降低死亡率，目前建議50歲以上至75歲規則接受篩檢。阿斯匹靈及其他非類固醇抗發炎藥物可降低罹癌風險，但由於藥物的副作用，目前並不建議常規使用它們來預防大腸直腸癌的發生。\\n治療方式包括手術、放射線治療、化學治療、及標靶治療或是合併使用以上療法。侷限在腸壁的大腸直腸癌可能藉由手術治癒，然而當癌症已擴散或轉移時則不然，此時則以改善生活品質及症狀為治療目標。在美國，五年存活率約65%，然而主要取決於病人健康狀況與癌症分期，而分期又關係到是否能藉由手術移除。整體來說，大腸直腸癌為第三常見癌症，約占10%。在2012年，有140萬例新診斷的大腸直腸癌，且造成69.4萬人死亡。大腸直腸癌在已開發國家較為常見，占全世界總案例數的65％。而在女性較男性少見。'"
            ]
          },
          "metadata": {
            "tags": []
          },
          "execution_count": 10
        }
      ]
    },
    {
      "cell_type": "code",
      "metadata": {
        "id": "MOKYMib9Odgp",
        "colab_type": "code",
        "colab": {}
      },
      "source": [
        ""
      ],
      "execution_count": 0,
      "outputs": []
    }
  ]
}
